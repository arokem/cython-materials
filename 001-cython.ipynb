{
 "metadata": {
  "name": "",
  "signature": "sha256:569234569e08f8998b80a5c185e656add65f53643c1243fe01630352297391cd"
 },
 "nbformat": 3,
 "nbformat_minor": 0,
 "worksheets": [
  {
   "cells": [
    {
     "cell_type": "markdown",
     "metadata": {},
     "source": [
      "## Cython\n",
      "\n",
      "In this notebook, we will use the `cythonmagic` extension, to demonstrate why and how to use cython.\n",
      "\n",
      "Note that this is not the typical usage pattern for cython. We will also look at how to use cython in the context of modules and libraries.\n",
      "\n",
      "But for now, let's load the `cythonmagic` extension. This allows us to mark cells as cython cells by starting them with `%%cython`. "
     ]
    },
    {
     "cell_type": "code",
     "collapsed": false,
     "input": [
      "%load_ext cythonmagic"
     ],
     "language": "python",
     "metadata": {},
     "outputs": [],
     "prompt_number": 1
    },
    {
     "cell_type": "markdown",
     "metadata": {},
     "source": [
      "First, let's what this is good for. \n",
      "\n",
      "Consider a very simple function defined in python:"
     ]
    },
    {
     "cell_type": "code",
     "collapsed": false,
     "input": [
      "def my_poly(a,b):\n",
      "    return 10.5 * a + 3 * (b**2)"
     ],
     "language": "python",
     "metadata": {},
     "outputs": [],
     "prompt_number": 2
    },
    {
     "cell_type": "markdown",
     "metadata": {},
     "source": [
      "The equivalent cython function is defined below in a `%%cython` cell. Note that the only difference is that we tell the function to treat these variables as double-precision numbers. \n",
      "\n",
      "**Important**: If this code were written in a regular python cell it would produce a syntax error. Cython is a 'dialect' of python, but it is not exactly like python. In fact, cython is a proper superset of python. That means that any python code is legitimate cython code, but the opposite. We will see one way to deal with this issue in a little bit."
     ]
    },
    {
     "cell_type": "code",
     "collapsed": false,
     "input": [
      "%%cython\n",
      "def my_polyx(double a, double b):\n",
      "    return 10.5 * a + 3 * (b**2)"
     ],
     "language": "python",
     "metadata": {},
     "outputs": [],
     "prompt_number": 3
    },
    {
     "cell_type": "code",
     "collapsed": false,
     "input": [
      "%timeit my_poly(10, 2)\n",
      "%timeit my_polyx(10, 2)"
     ],
     "language": "python",
     "metadata": {},
     "outputs": [
      {
       "output_type": "stream",
       "stream": "stdout",
       "text": [
        "1000000 loops, best of 3: 802 ns per loop\n",
        "1000000 loops, best of 3: 191 ns per loop"
       ]
      },
      {
       "output_type": "stream",
       "stream": "stdout",
       "text": [
        "\n"
       ]
      }
     ],
     "prompt_number": 4
    },
    {
     "cell_type": "markdown",
     "metadata": {},
     "source": [
      "This shows that we can gain a 3-fold speedup for even a trivial piece of code."
     ]
    },
    {
     "cell_type": "markdown",
     "metadata": {},
     "source": [
      "Let's consider an (only slightly) more interesting example, the calculation of the fibonacci series that we considered for the profiling examples:"
     ]
    },
    {
     "cell_type": "code",
     "collapsed": false,
     "input": [
      "def fib(n):\n",
      "    a, b = 1, 1\n",
      "    for i in range(n):\n",
      "        a, b = a+b, a\n",
      "\n",
      "    return a"
     ],
     "language": "python",
     "metadata": {},
     "outputs": [],
     "prompt_number": 5
    },
    {
     "cell_type": "markdown",
     "metadata": {},
     "source": [
      "For the cython example of this function, we will use the `cdef` keyword (a cython keyword!) to define local variables (integers in this case)"
     ]
    },
    {
     "cell_type": "code",
     "collapsed": false,
     "input": [
      "%%cython\n",
      "def fibx(int n):\n",
      "    cdef int i, a, b\n",
      "    a, b = 1, 1\n",
      "    for i in range(n):\n",
      "        a, b = a+b, a\n",
      "    return a"
     ],
     "language": "python",
     "metadata": {},
     "outputs": [],
     "prompt_number": 6
    },
    {
     "cell_type": "code",
     "collapsed": false,
     "input": [
      "%timeit fib(10)\n",
      "%timeit fibx(10)"
     ],
     "language": "python",
     "metadata": {},
     "outputs": [
      {
       "output_type": "stream",
       "stream": "stdout",
       "text": [
        "1000000 loops, best of 3: 1.38 \u00b5s per loop\n",
        "10000000 loops, best of 3: 78.3 ns per loop"
       ]
      },
      {
       "output_type": "stream",
       "stream": "stdout",
       "text": [
        "\n"
       ]
      }
     ],
     "prompt_number": 7
    },
    {
     "cell_type": "markdown",
     "metadata": {},
     "source": [
      "In this case, we are already at the >10-fold speedup. \n",
      "\n",
      "Let's pause to consider the implications of this. The C code required to perform the same calculation as `fibx` might look something like this: \n",
      "\n",
      "        int fib(int n){\n",
      "            int tmp, i, a, b;\n",
      "            a = b = 1;\n",
      "            for(i=0; i<n; i++){\n",
      "                 tmp = a;\n",
      "                 a += b;\n",
      "                 b = tmp;}\t     \n",
      "            return a;}\n",
      "\n",
      "In and of itself, that's not too terrible, but can get unpleasant if you write more than this trivial function. The main issue is that integrating this code into a python program is not trivial and requires writing extension code (think `mex`). This also has overhead that is hard to optimize. Cython writes highly optimized python extension code, making it easy to separate out performance bottle-necks and compile them, but keep using the functions in your python code. "
     ]
    },
    {
     "cell_type": "markdown",
     "metadata": {},
     "source": [
      "## Optional section: writing cython that also works as python\n",
      "\n",
      "Remember that we mentioned that cython code is not always syntactically correct python code? Sometimes you might want to write code that can be compiled as cython, but would also work as python. If you want to do that, you can use the cython API. The following cell is a simple example. This can be switched between (un-compiled) python and (compiled) cython by adding/removing the `%%cython` cell magic command at the top of the cell."
     ]
    },
    {
     "cell_type": "code",
     "collapsed": false,
     "input": [
      "%%cython\n",
      "import cython\n",
      "@cython.locals(n=cython.int)\n",
      "def fib_pure_python(n):\n",
      "    cython.declare(a=cython.int,\n",
      "                   b=cython.int,\n",
      "                   i=cython.int)\n",
      "    a, b = 1, 1\n",
      "    for i in range(n):\n",
      "        a, b = a+b, a\n",
      "    return a\n"
     ],
     "language": "python",
     "metadata": {},
     "outputs": [],
     "prompt_number": 8
    },
    {
     "cell_type": "code",
     "collapsed": false,
     "input": [
      "%timeit fib_pure_python(10)"
     ],
     "language": "python",
     "metadata": {},
     "outputs": [
      {
       "output_type": "stream",
       "stream": "stdout",
       "text": [
        "10000000 loops, best of 3: 86.8 ns per loop\n"
       ]
      }
     ],
     "prompt_number": 9
    },
    {
     "cell_type": "code",
     "collapsed": false,
     "input": [],
     "language": "python",
     "metadata": {},
     "outputs": [],
     "prompt_number": 9
    }
   ],
   "metadata": {}
  }
 ]
}